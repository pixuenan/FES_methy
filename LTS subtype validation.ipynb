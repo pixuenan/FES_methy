{
 "cells": [
  {
   "cell_type": "markdown",
   "metadata": {},
   "source": [
    "## NMF analysis on FES cohort"
   ]
  },
  {
   "cell_type": "markdown",
   "metadata": {},
   "source": [
    "### get top10k std cpg"
   ]
  },
  {
   "cell_type": "code",
   "execution_count": null,
   "metadata": {},
   "outputs": [],
   "source": [
    "## python code\n",
    "import pandas as pd\n",
    "\n",
    "df = pd.read_csv(\"00.data/comb.data.patient.csv\", sep=\",\", low_memory=False)\n",
    "cpg_std_df = df.std(axis=1)\n",
    "sorted_df = cpg_std_df.sort_values(ascending=False)\n",
    "top10k = sorted_df.head(10000).index.to_list()\n",
    "top10k_df = df.loc[top10k]\n",
    "top10k_df.to_csv(\"02.result/NMF/comb.patient.top10k.tsv\", sep=\"\\t\")"
   ]
  },
  {
   "cell_type": "markdown",
   "metadata": {},
   "source": [
    "### extract features relevant to subtype identification in FES cohort"
   ]
  },
  {
   "cell_type": "code",
   "execution_count": null,
   "metadata": {},
   "outputs": [],
   "source": [
    "## R code \n",
    "library(NMF)\n",
    "\n",
    "patient.df <- read.table(\"02.result/NMF/comb.patient.top10k.tsv\", sep=\"\\t\", header=TRUE, row.names=1)\n",
    "res <- nmf(patient.df, 2, .opt='vp20')\n",
    "score <- featureScore(res)\n",
    "write.table(score, \"treatment.Comb.patient.top10k.feature.score.csv\", sep=\",\")\n",
    "s <- extractFeatures(res)\n",
    "write.table(as.data.frame(s[2][[1]]), \"02.result/NMF/onset.Comb.patient.top10k.feature.cluster_1.csv\", sep=\",\", row.names=FALSE)\n",
    "write.table(as.data.frame(s[1][[1]]), \"02.result/NMF/onset.Comb.patient.top10k.feature.cluster_2.csv\", sep=\",\", row.names=FALSE)"
   ]
  },
  {
   "cell_type": "code",
   "execution_count": null,
   "metadata": {},
   "outputs": [],
   "source": [
    "## python code\n",
    "import pandas as pd\n",
    "## extract CpG site name\n",
    "onset_feature_dmp_1 = pd.read_csv(\"02.result/NMF/onset/onset.Comb.patient.top10k.feature.cluster_1.csv\")\n",
    "onset_feature_dmp_2 = pd.read_csv(\"02.result/NMF/onset/onset.Comb.patient.top10k.feature.cluster_2.csv\")\n",
    "\n",
    "onset_feature_cpg_1 = onset_score_df.reset_index().loc[onset_feature_dmp_1['s[2][[1]]']-1, \"index\"].values.tolist()\n",
    "onset_feature_cpg_2 = onset_score_df.reset_index().loc[onset_feature_dmp_2['s[1][[1]]']-1, \"index\"].values.tolist()\n",
    "\n",
    "pd.DataFrame(onset_feature_cpg_1+onset_feature_cpg_2).to_csv(\"02.result/NMF/onset/onset.Comb.patient.top10k.feature.all.cpg.csv\", index=False, header=False)"
   ]
  },
  {
   "cell_type": "markdown",
   "metadata": {},
   "source": [
    "## extract methylation matrix in FES and LTS cohorts according to FES relevant features"
   ]
  },
  {
   "cell_type": "code",
   "execution_count": null,
   "metadata": {},
   "outputs": [],
   "source": [
    "## R code\n",
    "treat.sample.df <- read.table(\"treatment.sample.sheet.csv\", header=TRUE, sep=\",\")\n",
    "treat.mycomb <- readRDS(\"treat.comb.clean.rds\")\n",
    "treat.patient.df <- sample.df[sample.df$Sample_Group_x==2,]\n",
    "onset.cpg <- read.table(\"02.result/NMF/onset/onset.Comb.patient.top10k.feature.all.cpg.csv\")\n",
    "\n",
    "## select CpG sites valid in both cohorts\n",
    "valid.cpg <- intersect(onset.cpg$V1), rownames(treat.mycomb))\n",
    "treat.patient.cpg <- treat.mycomb[valid.cpg, as.vector(treat.patient.df$Sample_Name)]\n",
    "write.table(treat.patient.cpg, \"02.result/NMF/onset.NMF.feature.treatment.patient.cpg.csv\", sep=\",\", quote=FALSE)\n",
    "\n",
    "onset.comb <- readRDS(\"comb.data.rds\")\n",
    "onset.df <- read.table(\"sample.info.csv\", header=TRUE, sep=\",\")\n",
    "onset.patient.df <- onset.df[onset.df$Sample_Group==\"patient\",]\n",
    "onset.patient.cpg <- onset.comb[valid.cpg, as.vector(onset.patient.df$Sample_Name)]\n",
    "write.table(onset.patient.cpg, \"02.result/NMF/onset.NMF.feature.onset.patient.cpg.csv\", sep=\",\", quote=FALSE)"
   ]
  },
  {
   "cell_type": "markdown",
   "metadata": {},
   "source": [
    "## Train RandomForest model on FES cohort and test on LTS cohort"
   ]
  },
  {
   "cell_type": "code",
   "execution_count": null,
   "metadata": {},
   "outputs": [],
   "source": [
    "## python code\n",
    "import pandas as pd\n",
    "from sklearn.ensemble import RandomForestClassifier\n",
    "\n",
    "def get_train(cpg_df, meta_df):\n",
    "    X = cpg_df.T.loc[meta_df[\"Sample_Name\"]]\n",
    "    y = meta_df[\"nmf_cluster\"]\n",
    "\n",
    "    classifier = RandomForestClassifier(max_depth=20, random_state=0)\n",
    "    classifier.fit(X, y)\n",
    "    return classifier\n",
    "\n",
    "## read in methylation matrix and sample information\n",
    "onset_cpg_df = pd.read_csv(\"02.result/NMF/onset.NMF.feature.onset.patient.cpg.csv\")\n",
    "treat_cpg_df = pd.read_csv(\"02.result/NMF/onset.NMF.feature.treatment.patient.cpg.csv\")\n",
    "\n",
    "treat_meta_df = pd.read_csv(\"03.result/treatment.patient.NMF.csv\")\n",
    "treat_meta_df[\"nmf_cluster\"].replace({\"NMF_P1\": 1, \"NMF_P2\":0, \"Health\":1}, inplace=True)\n",
    "treat_patient_df = treat_meta_df[treat_meta_df[\"Sample_Group_x\"]==2]\n",
    "\n",
    "onset_meta_df = pd.read_csv(\"02.result/NMF/onset.patient.NMF.csv\")\n",
    "onset_meta_df[\"nmf_cluster\"].replace({\"Meth_P1\": 1, \"Meth_P2\":0, \"Health\":1}, inplace=True)\n",
    "onset_patient_df = onset_meta_df[onset_meta_df[\"Sample_Group\"]==\"patient\"]\n",
    "\n",
    "## build, train and test the RF model\n",
    "onset_classifier = get_train(onset_cpg_df, onset_patient_df)\n",
    "\n",
    "X_test = treat_cpg_df.T.loc[treat_patient_df[\"Sample_Name\"]]\n",
    "y_test = treat_patient_df[\"nmf_cluster\"].tolist()\n",
    "\n",
    "result_ls = []\n",
    "result_ls.append(treat_patient_df[\"Sample_Name\"].tolist())\n",
    "result_ls.append(list(onset_classifier.predict(X_test)))\n",
    "result_ls.append(y_test)\n",
    "result_df = pd.DataFrame(result_ls).T\n",
    "result_df.rename(columns={0: \"Sample_Name\", 1: \"onset_prediction\", 2: \"treatment_cluster\"}, inplace=True)\n",
    "result_df.replace({1: \"P1\", 0: \"P2\"}, inplace=True)\n",
    "\n",
    "result_df.to_csv(\"02.result/NMF/onset.NMF.feature.treatment.cross_classification.RF.prediction.csv\", index=False)"
   ]
  }
 ],
 "metadata": {
  "kernelspec": {
   "display_name": "Python 3 (ipykernel)",
   "language": "python",
   "name": "python3"
  },
  "language_info": {
   "codemirror_mode": {
    "name": "ipython",
    "version": 3
   },
   "file_extension": ".py",
   "mimetype": "text/x-python",
   "name": "python",
   "nbconvert_exporter": "python",
   "pygments_lexer": "ipython3",
   "version": "3.7.8"
  },
  "toc": {
   "base_numbering": 1,
   "nav_menu": {},
   "number_sections": true,
   "sideBar": true,
   "skip_h1_title": false,
   "title_cell": "Table of Contents",
   "title_sidebar": "Contents",
   "toc_cell": false,
   "toc_position": {},
   "toc_section_display": true,
   "toc_window_display": false
  }
 },
 "nbformat": 4,
 "nbformat_minor": 4
}
